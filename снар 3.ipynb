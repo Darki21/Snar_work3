{
 "cells": [
  {
   "cell_type": "code",
   "execution_count": 1,
   "metadata": {},
   "outputs": [
    {
     "name": "stdout",
     "output_type": "stream",
     "text": [
      "Карта с траекторией и маркерами успешно сохранена как map_with_trajectory_and_markers.html на рабочем столе.\n"
     ]
    }
   ],
   "source": [
    "import folium\n",
    "import pandas as pd\n",
    "\n",
    "# Считывание данных из файла Excel\n",
    "file_path = \"C:/Users/maxim/Downloads/Книга1.xlsx\"  # полный путь к файлу\n",
    "df = pd.read_excel(file_path)\n",
    "\n",
    "# Создание начальной точки карты\n",
    "map = folium.Map(location=[df[' Latitude'].iloc[0], df[' Longitude'].iloc[0]], zoom_start=12)\n",
    "\n",
    "# Создание траектории на карте\n",
    "points = list(zip(df[' Latitude'], df[' Longitude']))\n",
    "folium.PolyLine(points, color=\"blue\", weight=2.5, opacity=1).add_to(map)\n",
    "\n",
    "# Создание маркеров \"Старт\" и \"Финиш\"\n",
    "start_marker = folium.Marker(location=[df[' Latitude'].iloc[0], df[' Longitude'].iloc[0]], popup=\"Старт\")\n",
    "finish_marker = folium.Marker(location=[df[' Latitude'].iloc[-1], df[' Longitude'].iloc[-1]], popup=\"Финиш\")\n",
    "start_marker.add_to(map)\n",
    "finish_marker.add_to(map)\n",
    "\n",
    "# Новый путь для сохранения на рабочий стол\n",
    "desktop_path = \"C:/Users/maxim/OneDrive/Рабочий стол/\"\n",
    "\n",
    "# Сохранение карты в HTML файл на рабочем столе\n",
    "map.save(desktop_path + \"map_with_trajectory_and_markers.html\")\n",
    "\n",
    "print(\"Карта с траекторией и маркерами успешно сохранена как map_with_trajectory_and_markers.html на рабочем столе.\")"
   ]
  }
 ],
 "metadata": {
  "kernelspec": {
   "display_name": "Python 3",
   "language": "python",
   "name": "python3"
  },
  "language_info": {
   "codemirror_mode": {
    "name": "ipython",
    "version": 3
   },
   "file_extension": ".py",
   "mimetype": "text/x-python",
   "name": "python",
   "nbconvert_exporter": "python",
   "pygments_lexer": "ipython3",
   "version": "3.11.8"
  }
 },
 "nbformat": 4,
 "nbformat_minor": 2
}
